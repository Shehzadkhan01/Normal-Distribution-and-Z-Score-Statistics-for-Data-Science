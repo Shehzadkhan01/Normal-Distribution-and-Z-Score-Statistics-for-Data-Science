{
  "nbformat": 4,
  "nbformat_minor": 0,
  "metadata": {
    "colab": {
      "provenance": []
    },
    "kernelspec": {
      "name": "python3",
      "display_name": "Python 3"
    },
    "language_info": {
      "name": "python"
    }
  },
  "cells": [
    {
      "cell_type": "code",
      "execution_count": 2,
      "metadata": {
        "id": "iVete7UnBbh7"
      },
      "outputs": [],
      "source": [
        "import numpy as np\n",
        "import pandas as pd\n",
        "import matplotlib.pyplot as plt\n",
        "import seaborn as sns\n",
        "%matplotlib inline\n"
      ]
    },
    {
      "cell_type": "code",
      "source": [
        "# Definf our dataset\n",
        "dataset = [11,10,12,14,12,15,14,13,15,102,12,14,17,19,107,10,13,13,14,108,12,11,14,13,15,10,15,12,10,14,13,15,10]"
      ],
      "metadata": {
        "id": "wF7TyQPmCBKS"
      },
      "execution_count": 3,
      "outputs": []
    },
    {
      "cell_type": "code",
      "source": [
        "plt.hist(dataset)"
      ],
      "metadata": {
        "colab": {
          "base_uri": "https://localhost:8080/",
          "height": 499
        },
        "id": "Y83MgSJGDXwy",
        "outputId": "2b0f17d6-a78b-410d-eabe-22458174bc15"
      },
      "execution_count": 4,
      "outputs": [
        {
          "output_type": "execute_result",
          "data": {
            "text/plain": [
              "(array([30.,  0.,  0.,  0.,  0.,  0.,  0.,  0.,  0.,  3.]),\n",
              " array([ 10. ,  19.8,  29.6,  39.4,  49.2,  59. ,  68.8,  78.6,  88.4,\n",
              "         98.2, 108. ]),\n",
              " <BarContainer object of 10 artists>)"
            ]
          },
          "metadata": {},
          "execution_count": 4
        },
        {
          "output_type": "display_data",
          "data": {
            "text/plain": [
              "<Figure size 640x480 with 1 Axes>"
            ],
            "image/png": "[encoded data removed]"
          },
          "metadata": {}
        }
      ]
    },
    {
      "cell_type": "code",
      "source": [
        "# Z-score function to detect outliers\n",
        "def detect_outliers(data):\n",
        "    threshold = 3  # 3rd standard deviation\n",
        "    mean = np.mean(data)\n",
        "    std = np.std(data)\n",
        "    outliers = []  # Define the outliers list inside the function\n",
        "\n",
        "    for i in data:\n",
        "        z_score = (i - mean) / std\n",
        "        if np.abs(z_score) > threshold:\n",
        "            outliers.append(i)\n",
        "\n",
        "    return outliers  # Return the list of outliers after the loop completes\n"
      ],
      "metadata": {
        "id": "zZBpP2ZyDmOg"
      },
      "execution_count": 8,
      "outputs": []
    },
    {
      "cell_type": "code",
      "source": [
        "# Detect outliers in the dataset\n",
        "outliers = detect_outliers(dataset)\n",
        "print(\"Outliers:\", outliers)\n"
      ],
      "metadata": {
        "id": "DGBaBZrUHIUQ",
        "colab": {
          "base_uri": "https://localhost:8080/"
        },
        "outputId": "ba9bc20f-d8d2-41d4-8594-a01c17ed0292"
      },
      "execution_count": 9,
      "outputs": [
        {
          "output_type": "stream",
          "name": "stdout",
          "text": [
            "Outliers: [102, 107, 108]\n"
          ]
        }
      ]
    },
    {
      "cell_type": "code",
      "source": [],
      "metadata": {
        "id": "fAWBfojxKLPt"
      },
      "execution_count": null,
      "outputs": []
    },
    {
      "cell_type": "markdown",
      "source": [
        "## IQR\n",
        "1. sort the data\n",
        "2. Calculate Q1(25%) and Q3(75%)\n",
        "3. IQR (Q3-Q1)\n",
        "4. Find the lower fence (Q1-1.5(IQR))\n",
        "5. Find the lower fence (Q3+1.5(IQR))"
      ],
      "metadata": {
        "id": "2t8fRbp1HEw-"
      }
    },
    {
      "cell_type": "code",
      "source": [
        "## sort the data\n",
        "sorted(dataset)\n",
        "\n",
        "dataset"
      ],
      "metadata": {
        "colab": {
          "base_uri": "https://localhost:8080/"
        },
        "id": "BSiruGnHIPui",
        "outputId": "c2cc9411-4892-4c62-ae4c-b0f153e9a143"
      },
      "execution_count": 10,
      "outputs": [
        {
          "output_type": "execute_result",
          "data": {
            "text/plain": [
              "[11,\n",
              " 10,\n",
              " 12,\n",
              " 14,\n",
              " 12,\n",
              " 15,\n",
              " 14,\n",
              " 13,\n",
              " 15,\n",
              " 102,\n",
              " 12,\n",
              " 14,\n",
              " 17,\n",
              " 19,\n",
              " 107,\n",
              " 10,\n",
              " 13,\n",
              " 13,\n",
              " 14,\n",
              " 108,\n",
              " 12,\n",
              " 11,\n",
              " 14,\n",
              " 13,\n",
              " 15,\n",
              " 10,\n",
              " 15,\n",
              " 12,\n",
              " 10,\n",
              " 14,\n",
              " 13,\n",
              " 15,\n",
              " 10]"
            ]
          },
          "metadata": {},
          "execution_count": 10
        }
      ]
    },
    {
      "cell_type": "code",
      "source": [
        "## Calculate Q1(25%) and Q3(75%)\n",
        "q1, q3 = np.percentile(dataset,[25,75])\n",
        "\n",
        "print(q1, q3)"
      ],
      "metadata": {
        "colab": {
          "base_uri": "https://localhost:8080/"
        },
        "id": "tZSjGLuRTyRw",
        "outputId": "8b563a81-8cbd-4e68-8956-865651ac6c00"
      },
      "execution_count": 18,
      "outputs": [
        {
          "output_type": "stream",
          "name": "stdout",
          "text": [
            "12.0 15.0\n"
          ]
        }
      ]
    },
    {
      "cell_type": "code",
      "source": [
        "## IQR (Q3-Q1)\n",
        "iqr = q3 - q1\n",
        "\n",
        "print(iqr)"
      ],
      "metadata": {
        "colab": {
          "base_uri": "https://localhost:8080/"
        },
        "id": "8VoFtfmvUl56",
        "outputId": "b1939fcd-7b17-4d96-94ce-d48692bb381b"
      },
      "execution_count": 21,
      "outputs": [
        {
          "output_type": "stream",
          "name": "stdout",
          "text": [
            "3.0\n"
          ]
        }
      ]
    },
    {
      "cell_type": "code",
      "source": [
        "## Find the lower fence and hiher fence\n",
        "lower = q1 - 1.5 * iqr\n",
        "hiher = q3 + 1.5 * iqr\n",
        "\n",
        "print(\"Lower_fence\",lower)\n",
        "print(\"Hiher_fence\",hiher)\n",
        "\n",
        "\n",
        "## Find outliers in for loop\n",
        "outliers =  []\n",
        "for i in dataset:\n",
        "    if i < lower or i > hiher:\n",
        "        outliers.append(i)\n",
        "\n",
        "print()\n",
        "print(\"Outliers\",outliers)"
      ],
      "metadata": {
        "colab": {
          "base_uri": "https://localhost:8080/"
        },
        "id": "ZMEg-uWTViCD",
        "outputId": "01af1704-2710-45e0-c8b3-959408313898"
      },
      "execution_count": 33,
      "outputs": [
        {
          "output_type": "stream",
          "name": "stdout",
          "text": [
            "Lower_fence 7.5\n",
            "Hiher_fence 19.5\n",
            "\n",
            "Outliers [102, 107, 108]\n"
          ]
        }
      ]
    },
    {
      "cell_type": "code",
      "source": [
        "## create a Boxplot\n",
        "sns.boxplot(x=dataset,orient=\"h\", flierprops=dict(markerfacecolor='r', marker='D', markersize=5)) # Customize outliers\n",
        "## Add title\n",
        "plt.title(\"Horizantal Boxplot\")\n",
        "\n",
        "## Show the plot\n",
        "plt.show()"
      ],
      "metadata": {
        "colab": {
          "base_uri": "https://localhost:8080/",
          "height": 452
        },
        "id": "o60ERk8qWl5X",
        "outputId": "eae47033-3ab1-494b-e6cd-709142bf5a54"
      },
      "execution_count": 39,
      "outputs": [
        {
          "output_type": "display_data",
          "data": {
            "text/plain": [
              "<Figure size 640x480 with 1 Axes>"
            ],
            "image/png": "[encoded data removed]"
          },
          "metadata": {}
        }
      ]
    },
    {
      "cell_type": "code",
      "source": [],
      "metadata": {
        "id": "wVUCcerLbN7T"
      },
      "execution_count": null,
      "outputs": []
    }
  ]
}